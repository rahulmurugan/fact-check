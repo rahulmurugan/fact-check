{
 "cells": [
  {
   "cell_type": "code",
   "execution_count": 1,
   "metadata": {},
   "outputs": [
    {
     "name": "stdout",
     "output_type": "stream",
     "text": [
      "/Users/rahul/Desktop/fact_check/fact-check/venv/bin/python\n"
     ]
    }
   ],
   "source": [
    "import sys\n",
    "print(sys.executable)"
   ]
  },
  {
   "cell_type": "code",
   "execution_count": 2,
   "metadata": {},
   "outputs": [],
   "source": [
    "import os\n",
    "from src.preprocess import load_marketing_claims, load_clinical_docs, process_clinical_doc\n",
    "from src.matcher import build_tfidf_matrix, match_claim_to_docs, build_clinical_texts_dict\n",
    "from src.utils import setup_logger, save_json\n"
   ]
  },
  {
   "cell_type": "code",
   "execution_count": 3,
   "metadata": {},
   "outputs": [
    {
     "name": "stdout",
     "output_type": "stream",
     "text": [
      "2025-04-11 13:37:28,657 - MainNotebook - INFO - Paths defined successfully.\n"
     ]
    }
   ],
   "source": [
    "logger = setup_logger(\"MainNotebook\", level=10) \n",
    "\n",
    "# Define paths (adjust these based on your repository structure)\n",
    "marketing_claims_path = os.path.join(\"data\", \"Flublok_Claims.json\")\n",
    "clinical_docs_directory = os.path.join(\"data\", \"Clinical Files\")\n",
    "results_path = os.path.join(\"results\", \"basic_results.json\")\n",
    "\n",
    "logger.info(\"Paths defined successfully.\")"
   ]
  },
  {
   "cell_type": "code",
   "execution_count": 4,
   "metadata": {},
   "outputs": [
    {
     "name": "stdout",
     "output_type": "stream",
     "text": [
      "2025-04-11 13:37:32,095 - MainNotebook - INFO - Loaded 9 marketing claims.\n",
      "2025-04-11 13:37:32,098 - MainNotebook - INFO - Found 8 clinical documents.\n"
     ]
    }
   ],
   "source": [
    "claims = load_marketing_claims(marketing_claims_path)\n",
    "logger.info(f\"Loaded {len(claims)} marketing claims.\")\n",
    "\n",
    "# Load clinical document file paths from the clinical docs folder\n",
    "clinical_docs = load_clinical_docs(clinical_docs_directory)\n",
    "logger.info(f\"Found {len(clinical_docs)} clinical documents.\")"
   ]
  },
  {
   "cell_type": "markdown",
   "metadata": {},
   "source": []
  },
  {
   "cell_type": "code",
   "execution_count": 5,
   "metadata": {},
   "outputs": [
    {
     "name": "stdout",
     "output_type": "stream",
     "text": [
      "2025-04-11 13:37:38,220 - MainNotebook - INFO - Processed all clinical documents.\n",
      "2025-04-11 13:37:38,225 - MainNotebook - INFO - Preview of Arunachalam et al. (2021).pdf: REVIEW ARTICLE OPEN Unique features of a recombinant haemagglutinin inﬂuenza vaccine that inﬂuence vaccine performance Arun B. Arunachalam 1✉, Penny Post2 and Deborah Rudin3 The inﬂuenza vaccine ﬁeld ...\n"
     ]
    }
   ],
   "source": [
    "# Process each clinical document into a tuple (document_name, cleaned_text)\n",
    "clinical_texts = build_clinical_texts_dict(clinical_docs, process_clinical_doc)\n",
    "logger.info(\"Processed all clinical documents.\")\n",
    "\n",
    "# Optional: Display a preview of one processed document\n",
    "if clinical_texts:\n",
    "    doc_name, text = clinical_texts[0]\n",
    "    logger.info(f\"Preview of {doc_name}: {text[:200]}...\")"
   ]
  },
  {
   "cell_type": "code",
   "execution_count": 6,
   "metadata": {},
   "outputs": [
    {
     "name": "stdout",
     "output_type": "stream",
     "text": [
      "2025-04-11 13:38:26,963 - MainNotebook - INFO - TF-IDF matrix built for clinical documents.\n"
     ]
    }
   ],
   "source": [
    "# Extract the text content only, needed to build the TF-IDF matrix.\n",
    "clinical_text_only = [text for _, text in clinical_texts]\n",
    "\n",
    "# Build the TF-IDF matrix and obtain the vectorizer object.\n",
    "tfidf_matrix, vectorizer = build_tfidf_matrix(clinical_text_only)\n",
    "logger.info(\"TF-IDF matrix built for clinical documents.\")\n"
   ]
  },
  {
   "cell_type": "code",
   "execution_count": 7,
   "metadata": {},
   "outputs": [
    {
     "name": "stdout",
     "output_type": "stream",
     "text": [
      "2025-04-11 13:38:43,084 - MainNotebook - INFO - Processed claim: Flublok ensures identical antigenic match with WHO... with 3 matches.\n",
      "2025-04-11 13:38:43,085 - MainNotebook - INFO - Processed claim: Flublok contains 3x the hemagglutinin (HA) antigen... with 3 matches.\n",
      "2025-04-11 13:38:43,088 - MainNotebook - INFO - Processed claim: Cell- and egg-based flu vaccines have the potentia... with 3 matches.\n",
      "2025-04-11 13:38:43,090 - MainNotebook - INFO - Processed claim: Recombinant technology leads to a broader immune r... with 3 matches.\n",
      "2025-04-11 13:38:43,093 - MainNotebook - INFO - Processed claim: Vaccination with a higher-dose recombinant flu vac... with 3 matches.\n",
      "2025-04-11 13:38:43,094 - MainNotebook - INFO - Processed claim: Flublok (quadrivalent) was evaluated in the pivota... with 3 matches.\n",
      "2025-04-11 13:38:43,095 - MainNotebook - INFO - Processed claim: Flublok is produced using a novel production platf... with 3 matches.\n",
      "2025-04-11 13:38:43,097 - MainNotebook - INFO - Processed claim: Recombinant HA antigens produced using BEVS have b... with 3 matches.\n",
      "2025-04-11 13:38:43,098 - MainNotebook - INFO - Processed claim: Flublok contains 45 micrograms (mcg) of HA per str... with 3 matches.\n",
      "2025-04-11 13:38:43,098 - MainNotebook - INFO - Matching completed for all claims.\n"
     ]
    }
   ],
   "source": [
    "# Number of top matches you want per claim\n",
    "top_k = 3\n",
    "\n",
    "# Container for the final output results\n",
    "results = {\"claims\": []}\n",
    "\n",
    "for claim_obj in claims:\n",
    "    claim_text = claim_obj['claim']\n",
    "    # Get top matching clinical documents for this claim\n",
    "    matches = match_claim_to_docs(claim_text, clinical_texts, tfidf_matrix, vectorizer, top_k=top_k)\n",
    "    \n",
    "    # Append the result for this claim in the required format\n",
    "    results[\"claims\"].append({\n",
    "        \"claim\": claim_text,\n",
    "        \"match_source\": matches  # matches is a list of dictionaries as produced in matcher.py\n",
    "    })\n",
    "    \n",
    "    logger.info(f\"Processed claim: {claim_text[:50]}... with {len(matches)} matches.\")\n",
    "\n",
    "logger.info(\"Matching completed for all claims.\")\n"
   ]
  },
  {
   "cell_type": "code",
   "execution_count": 8,
   "metadata": {},
   "outputs": [
    {
     "name": "stdout",
     "output_type": "stream",
     "text": [
      "2025-04-11 13:38:57,774 - MainNotebook - INFO - Results saved to results/basic_results.json.\n",
      "{\n",
      "    \"claim\": \"Flublok ensures identical antigenic match with WHO- and FDA-selected flu strains.\",\n",
      "    \"match_source\": [\n",
      "        {\n",
      "            \"document_name\": \"FlublokPI.pdf\",\n",
      "            \"matching_text\": \"HIGHLIGHTS OF PRESCRIBING INFORMATION These highlights do not include all the information needed to use Flublok\\u00ae safely and effectively. See full prescribing information for Flublok. Flublok (In\\ufb02uenza...\",\n",
      "            \"score\": 0.12143134130269985\n",
      "        },\n",
      "        {\n",
      "            \"document_name\": \"Treanor et al. (2011).pdf\",\n",
      "            \"matching_text\": \"Vaccine 29 7733\\u2013 7739 Contents lists available at ScienceDirect Vaccine jou rn al h om epa ge: www.elsevier.com/locate/vaccine Protective ef\\ufb01cacy of a trivalent recombinant hemagglutinin protein vacci...\",\n",
      "            \"score\": 0.07467662456769332\n",
      "        },\n",
      "        {\n",
      "            \"document_name\": \"Arunachalam et al. (2021).pdf\",\n",
      "            \"matching_text\": \"REVIEW ARTICLE OPEN Unique features of a recombinant haemagglutinin in\\ufb02uenza vaccine that in\\ufb02uence vaccine performance Arun B. Arunachalam 1\\u2709, Penny Post2 and Deborah Rudin3 The in\\ufb02uenza vaccine \\ufb01eld ...\",\n",
      "            \"score\": 0.04184044073514859\n",
      "        }\n",
      "    ]\n",
      "}\n"
     ]
    }
   ],
   "source": [
    "save_json(results, results_path)\n",
    "logger.info(f\"Results saved to {results_path}.\")\n",
    "\n",
    "# Display a summary of one match from the results\n",
    "import json\n",
    "print(json.dumps(results[\"claims\"][0], indent=4))"
   ]
  },
  {
   "cell_type": "code",
   "execution_count": null,
   "metadata": {},
   "outputs": [],
   "source": []
  }
 ],
 "metadata": {
  "kernelspec": {
   "display_name": "venv",
   "language": "python",
   "name": "python3"
  },
  "language_info": {
   "codemirror_mode": {
    "name": "ipython",
    "version": 3
   },
   "file_extension": ".py",
   "mimetype": "text/x-python",
   "name": "python",
   "nbconvert_exporter": "python",
   "pygments_lexer": "ipython3",
   "version": "3.12.6"
  }
 },
 "nbformat": 4,
 "nbformat_minor": 2
}
